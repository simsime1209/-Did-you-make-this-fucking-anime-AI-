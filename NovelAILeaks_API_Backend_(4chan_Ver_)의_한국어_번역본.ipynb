{
  "nbformat": 4,
  "nbformat_minor": 0,
  "metadata": {
    "colab": {
      "provenance": [],
      "private_outputs": true,
      "include_colab_link": true
    },
    "kernelspec": {
      "name": "python3",
      "display_name": "Python 3"
    },
    "language_info": {
      "name": "python"
    },
    "accelerator": "GPU",
    "gpuClass": "standard"
  },
  "cells": [
    {
      "cell_type": "markdown",
      "metadata": {
        "id": "view-in-github",
        "colab_type": "text"
      },
      "source": [
        "<a href=\"https://colab.research.google.com/github/simsime1209/-Did-you-make-this-fucking-anime-AI-/blob/main/NovelAILeaks_API_Backend_(4chan_Ver_)%EC%9D%98_%ED%95%9C%EA%B5%AD%EC%96%B4_%EB%B2%88%EC%97%AD%EB%B3%B8.ipynb\" target=\"_parent\"><img src=\"https://colab.research.google.com/assets/colab-badge.svg\" alt=\"Open In Colab\"/></a>"
      ]
    },
    {
      "cell_type": "markdown",
      "source": [
        "4chan의 NovelAILeaks(naifu)의 수정된 버전을 기반으로 합니다. [원본](https://boards.4channel.org/g/thread/89095460#p89097704)\n",
        "\n",
        "공식 프런트엔드 + 최적화된 백엔드를 사용하여 75개 한계를 돌파하고 모든 모델을 지원할 수 있습니다.\n",
        "\n",
        "크레딧: https://t.me/StableDiffusion_CN https://t.me/exlolicon\n",
        "\n",
        "Thanks: Anonymous, 炼铜术士, 神楽坂早苗️, Jonathan, 咕 咕, 猫又逆变器, Gaein nidb\n",
        "\n",
        "발번역 : simsime\n"
      ],
      "metadata": {
        "id": "KZ88G-iWCTs7"
      }
    },
    {
      "cell_type": "markdown",
      "source": [
        "*로컬로 운영 시 아나콘다 파워셀에 \n",
        "\n",
        "jupyter notebook --NotebookApp.allow_origin='https://colab.research.google.com' --port=8888 --NotebookApp.port_retries=0\n"
      ],
      "metadata": {
        "id": "zzeVIDF7e_P9"
      }
    },
    {
      "cell_type": "code",
      "execution_count": null,
      "metadata": {
        "id": "X5yF8TS1CR3L"
      },
      "outputs": [],
      "source": [
        "#@title ### 0. GPU 작동 상태 확인\n",
        "\n",
        "!nvidia-smi"
      ]
    },
    {
      "cell_type": "code",
      "source": [
        "#@title ### 1. Novel AI API 백엔드 및 모델 다운로드\n",
        "#@markdown 다운로드 속도가 너무 느리다면 다시 시작해 보새요!\n",
        "\n",
        "%cd /content/\n",
        "!apt install -y -qq aria2\n",
        "!aria2c --summary-interval=5 -x 3 --allow-overwrite=true -Z \\\n",
        "  https://pub-2fdef7a2969f43289c42ac5ae3412fd4.r2.dev/naifu.tar \\\n",
        "  https://pub-2fdef7a2969f43289c42ac5ae3412fd4.r2.dev/animefull-latest.tar \n",
        "  \n",
        "!echo \"Decompressing...\"\n",
        "!tar xf naifu.tar && rm naifu.tar\n",
        "!echo \"Done.\""
      ],
      "metadata": {
        "id": "iqTO_Uf3F6VW"
      },
      "execution_count": null,
      "outputs": []
    },
    {
      "cell_type": "code",
      "source": [
        "#@title ### 2. 종속성 설치\n",
        "#@markdown 설치가 완료될 때까지 기다리세요. 몇 분정도 소요됩니다!\n",
        "\n",
        "%cd /content/naifu\n",
        "!pip install virtualenv && bash ./setup.sh\n",
        "!curl -Ls https://github.com/ekzhang/bore/releases/download/v0.4.0/bore-v0.4.0-x86_64-unknown-linux-musl.tar.gz | tar zx -C /usr/bin\n",
        "!curl -Lo /usr/bin/cloudflared https://github.com/cloudflare/cloudflared/releases/latest/download/cloudflared-linux-amd64 && chmod +x /usr/bin/cloudflared\n",
        "!/content/naifu/venv/bin/python -m pip install -qq pytorch_lightning==1.7.7"
      ],
      "metadata": {
        "id": "BysBfYRmGSo1"
      },
      "execution_count": null,
      "outputs": []
    },
    {
      "cell_type": "code",
      "source": [
        "#@title ### 3. 모델 시작\n",
        "#@markdown 출력에 매핑된 주소로 새 창을 여세요. ('trycloudflare.com' / 'bore.pub'로 끝납니다 ;)  <- 서버가 열리면 접속할 주소\n",
        "#@markdown - 모델 로딩이 완료될 때까지 기다린 후（`Application startup complete'가 나타나면 새로 열었던 창을 새로고침하세요! 서버가 활성화 된 거랍니다!\n",
        "#@markdown - 'Cloudflare'에서 제공하는 서비스는 때때로 지연이 있을 수 있어서, 'bore' 터널을 대신 ​​사용할 수도 있어요.\n",
        "\n",
        "%cd /content/naifu\n",
        "!sed -i 's/# export 8⁹=\"1\"/export SAVE_FILES=\"1\"/g' run.sh\n",
        "!bash run.sh & cloudflared tunnel --url localhost:6969"
      ],
      "metadata": {
        "id": "uQBR9zXQGJrn"
      },
      "execution_count": null,
      "outputs": []
    },
    {
      "cell_type": "code",
      "source": [
        "from google.colab import drive\n",
        "drive.mount('/content/drive')"
      ],
      "metadata": {
        "id": "m8BwnJZ0UizU"
      },
      "execution_count": null,
      "outputs": []
    },
    {
      "cell_type": "code",
      "source": [
        "#@title ### 4. (선택사항) 7G의 'animefull-latest' 모델로 실행\n",
        "#@markdown 기본적으로 4G 크기의 animefull-final-pruned 모델이 사용됩니다. 7G의 animefull-최신 모델을 사용하고 싶다면 이 셀을 사용하세요!\n",
        "\n",
        "%cd /content/\n",
        "!mkdir /content/naifu/models/animefull-latest\n",
        "!tar xf animefull-latest.tar -C /content/naifu/models/animefull-latest && rm animefull-latest.tar\n",
        "!sed -i 's/map_location=\"cpu\"/map_location=\"cuda\"/g' /content/naifu/hydra_node/models.py\n",
        "\n",
        "%cd /content/naifu\n",
        "%env DTYPE=float16\n",
        "%env CLIP_CONTEXTS=3\n",
        "%env AMP=1\n",
        "%env MODEL=stable-diffusion\n",
        "%env DEV=True\n",
        "%env MODEL_PATH=models/animefull-latest\n",
        "%env ENABLE_EMA=1\n",
        "%env VAE_PATH=models/animevae.pt\n",
        "%env PENULTIMATE=1\n",
        "%env PYTHONDONTWRITEBYTECODE=1\n",
        "%env SAVE_FILES=1\n",
        "\n",
        "!./venv/bin/python -m uvicorn --host 0.0.0.0 --port=6969 main:app & bore local 6969 --to bore.pub & cloudflared tunnel --url localhost:6969"
      ],
      "metadata": {
        "id": "B9j9thAby5_2"
      },
      "execution_count": null,
      "outputs": []
    }
  ]
}